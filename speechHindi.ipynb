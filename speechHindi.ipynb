{
 "cells": [
  {
   "cell_type": "code",
   "execution_count": 1,
   "metadata": {},
   "outputs": [
    {
     "name": "stdout",
     "output_type": "stream",
     "text": [
      "Collecting google-cloud-speech\n",
      "\u001b[?25l  Downloading https://files.pythonhosted.org/packages/61/4f/94b8c54376384ec36dd2573d175c2be6663eb0bc165588dd807c7ab1b568/google_cloud_speech-1.2.0-py2.py3-none-any.whl (84kB)\n",
      "\u001b[K    100% |████████████████████████████████| 92kB 49kB/s ta 0:00:01\n",
      "\u001b[?25hCollecting google-api-core[grpc]<2.0.0dev,>=1.14.0 (from google-cloud-speech)\n",
      "\u001b[?25l  Downloading https://files.pythonhosted.org/packages/71/e5/7059475b3013a3c75abe35015c5761735ab224eb1b129fee7c8e376e7805/google_api_core-1.14.2-py2.py3-none-any.whl (68kB)\n",
      "\u001b[K    100% |████████████████████████████████| 71kB 62kB/s ta 0:00:01\n",
      "\u001b[?25hRequirement already satisfied, skipping upgrade: requests<3.0.0dev,>=2.18.0 in /anaconda3/lib/python3.7/site-packages (from google-api-core[grpc]<2.0.0dev,>=1.14.0->google-cloud-speech) (2.21.0)\n",
      "Collecting protobuf>=3.4.0 (from google-api-core[grpc]<2.0.0dev,>=1.14.0->google-cloud-speech)\n",
      "\u001b[?25l  Downloading https://files.pythonhosted.org/packages/6f/67/c9461f62a46b083602276afe20b3a26c19608f8f86e9b2683dd1de001e88/protobuf-3.9.1-cp37-cp37m-macosx_10_9_intel.whl (1.4MB)\n",
      "\u001b[K    100% |████████████████████████████████| 1.4MB 10kB/s eta 0:00:01\n",
      "\u001b[?25hCollecting googleapis-common-protos<2.0dev,>=1.6.0 (from google-api-core[grpc]<2.0.0dev,>=1.14.0->google-cloud-speech)\n",
      "  Downloading https://files.pythonhosted.org/packages/eb/ee/e59e74ecac678a14d6abefb9054f0bbcb318a6452a30df3776f133886d7d/googleapis-common-protos-1.6.0.tar.gz\n",
      "Collecting google-auth<2.0dev,>=0.4.0 (from google-api-core[grpc]<2.0.0dev,>=1.14.0->google-cloud-speech)\n",
      "\u001b[?25l  Downloading https://files.pythonhosted.org/packages/c5/9b/ed0516cc1f7609fb0217e3057ff4f0f9f3e3ce79a369c6af4a6c5ca25664/google_auth-1.6.3-py2.py3-none-any.whl (73kB)\n",
      "\u001b[K    100% |████████████████████████████████| 81kB 15kB/s ta 0:00:014\n",
      "\u001b[?25hRequirement already satisfied, skipping upgrade: pytz in /anaconda3/lib/python3.7/site-packages (from google-api-core[grpc]<2.0.0dev,>=1.14.0->google-cloud-speech) (2018.9)\n",
      "Requirement already satisfied, skipping upgrade: six>=1.10.0 in /anaconda3/lib/python3.7/site-packages (from google-api-core[grpc]<2.0.0dev,>=1.14.0->google-cloud-speech) (1.12.0)\n",
      "Requirement already satisfied, skipping upgrade: setuptools>=34.0.0 in /anaconda3/lib/python3.7/site-packages (from google-api-core[grpc]<2.0.0dev,>=1.14.0->google-cloud-speech) (40.8.0)\n",
      "Collecting grpcio<2.0dev,>=1.8.2; extra == \"grpc\" (from google-api-core[grpc]<2.0.0dev,>=1.14.0->google-cloud-speech)\n",
      "\u001b[?25l  Downloading https://files.pythonhosted.org/packages/24/39/b9b64be086bb437c83d56b5a400b50360ccf683c476ad702836a39a4eefd/grpcio-1.22.0-cp37-cp37m-macosx_10_9_x86_64.whl (2.0MB)\n",
      "\u001b[K    100% |████████████████████████████████| 2.0MB 20kB/s ta 0:00:018\n",
      "\u001b[?25hRequirement already satisfied, skipping upgrade: urllib3<1.25,>=1.21.1 in /anaconda3/lib/python3.7/site-packages (from requests<3.0.0dev,>=2.18.0->google-api-core[grpc]<2.0.0dev,>=1.14.0->google-cloud-speech) (1.24.1)\n",
      "Requirement already satisfied, skipping upgrade: idna<2.9,>=2.5 in /anaconda3/lib/python3.7/site-packages (from requests<3.0.0dev,>=2.18.0->google-api-core[grpc]<2.0.0dev,>=1.14.0->google-cloud-speech) (2.8)\n",
      "Requirement already satisfied, skipping upgrade: chardet<3.1.0,>=3.0.2 in /anaconda3/lib/python3.7/site-packages (from requests<3.0.0dev,>=2.18.0->google-api-core[grpc]<2.0.0dev,>=1.14.0->google-cloud-speech) (3.0.4)\n",
      "Requirement already satisfied, skipping upgrade: certifi>=2017.4.17 in /anaconda3/lib/python3.7/site-packages (from requests<3.0.0dev,>=2.18.0->google-api-core[grpc]<2.0.0dev,>=1.14.0->google-cloud-speech) (2019.3.9)\n",
      "Collecting rsa>=3.1.4 (from google-auth<2.0dev,>=0.4.0->google-api-core[grpc]<2.0.0dev,>=1.14.0->google-cloud-speech)\n",
      "  Downloading https://files.pythonhosted.org/packages/02/e5/38518af393f7c214357079ce67a317307936896e961e35450b70fad2a9cf/rsa-4.0-py2.py3-none-any.whl\n",
      "Collecting cachetools>=2.0.0 (from google-auth<2.0dev,>=0.4.0->google-api-core[grpc]<2.0.0dev,>=1.14.0->google-cloud-speech)\n",
      "  Downloading https://files.pythonhosted.org/packages/2f/a6/30b0a0bef12283e83e58c1d6e7b5aabc7acfc4110df81a4471655d33e704/cachetools-3.1.1-py2.py3-none-any.whl\n",
      "Collecting pyasn1-modules>=0.2.1 (from google-auth<2.0dev,>=0.4.0->google-api-core[grpc]<2.0.0dev,>=1.14.0->google-cloud-speech)\n",
      "\u001b[?25l  Downloading https://files.pythonhosted.org/packages/be/70/e5ea8afd6d08a4b99ebfc77bd1845248d56cfcf43d11f9dc324b9580a35c/pyasn1_modules-0.2.6-py2.py3-none-any.whl (95kB)\n",
      "\u001b[K    100% |████████████████████████████████| 102kB 15kB/s a 0:00:01\n",
      "\u001b[?25hCollecting pyasn1>=0.1.3 (from rsa>=3.1.4->google-auth<2.0dev,>=0.4.0->google-api-core[grpc]<2.0.0dev,>=1.14.0->google-cloud-speech)\n",
      "\u001b[?25l  Downloading https://files.pythonhosted.org/packages/6a/6e/209351ec34b7d7807342e2bb6ff8a96eef1fd5dcac13bdbadf065c2bb55c/pyasn1-0.4.6-py2.py3-none-any.whl (75kB)\n",
      "\u001b[K    100% |████████████████████████████████| 81kB 18kB/s ta 0:00:01\n",
      "\u001b[?25hBuilding wheels for collected packages: googleapis-common-protos\n",
      "  Building wheel for googleapis-common-protos (setup.py) ... \u001b[?25ldone\n",
      "\u001b[?25h  Stored in directory: /Users/rohanjohn/Library/Caches/pip/wheels/9e/3d/a2/1bec8bb7db80ab3216dbc33092bb7ccd0debfb8ba42b5668d5\n",
      "Successfully built googleapis-common-protos\n",
      "Installing collected packages: protobuf, googleapis-common-protos, pyasn1, rsa, cachetools, pyasn1-modules, google-auth, grpcio, google-api-core, google-cloud-speech\n",
      "Successfully installed cachetools-3.1.1 google-api-core-1.14.2 google-auth-1.6.3 google-cloud-speech-1.2.0 googleapis-common-protos-1.6.0 grpcio-1.22.0 protobuf-3.9.1 pyasn1-0.4.6 pyasn1-modules-0.2.6 rsa-4.0\n",
      "Note: you may need to restart the kernel to use updated packages.\n"
     ]
    }
   ],
   "source": [
    "pip install --upgrade google-cloud-speech"
   ]
  },
  {
   "cell_type": "code",
   "execution_count": 2,
   "metadata": {},
   "outputs": [
    {
     "name": "stdout",
     "output_type": "stream",
     "text": [
      "Collecting pydub\n",
      "  Downloading https://files.pythonhosted.org/packages/79/db/eaf620b73a1eec3c8c6f8f5b0b236a50f9da88ad57802154b7ba7664d0b8/pydub-0.23.1-py2.py3-none-any.whl\n",
      "Installing collected packages: pydub\n",
      "Successfully installed pydub-0.23.1\n",
      "Note: you may need to restart the kernel to use updated packages.\n"
     ]
    }
   ],
   "source": [
    "pip install pydub"
   ]
  },
  {
   "cell_type": "code",
   "execution_count": 4,
   "metadata": {},
   "outputs": [
    {
     "name": "stdout",
     "output_type": "stream",
     "text": [
      "Collecting google-cloud-storage\n",
      "\u001b[?25l  Downloading https://files.pythonhosted.org/packages/57/e6/a94429633ca5f812ecf661b78ff15f28f92130083a5709e6588c6c7ca5d9/google_cloud_storage-1.18.0-py2.py3-none-any.whl (69kB)\n",
      "\u001b[K    100% |████████████████████████████████| 71kB 22kB/s ta 0:00:01\n",
      "\u001b[?25hRequirement already satisfied, skipping upgrade: google-auth>=1.2.0 in /anaconda3/lib/python3.7/site-packages (from google-cloud-storage) (1.6.3)\n",
      "Collecting google-cloud-core<2.0dev,>=1.0.0 (from google-cloud-storage)\n",
      "  Downloading https://files.pythonhosted.org/packages/ee/f0/084f598629db8e6ec3627688723875cdb03637acb6d86999bb105a71df64/google_cloud_core-1.0.3-py2.py3-none-any.whl\n",
      "Collecting google-resumable-media>=0.3.1 (from google-cloud-storage)\n",
      "  Downloading https://files.pythonhosted.org/packages/e2/5d/4bc5c28c252a62efe69ed1a1561da92bd5af8eca0cdcdf8e60354fae9b29/google_resumable_media-0.3.2-py2.py3-none-any.whl\n",
      "Requirement already satisfied, skipping upgrade: six>=1.9.0 in /anaconda3/lib/python3.7/site-packages (from google-auth>=1.2.0->google-cloud-storage) (1.12.0)\n",
      "Requirement already satisfied, skipping upgrade: cachetools>=2.0.0 in /anaconda3/lib/python3.7/site-packages (from google-auth>=1.2.0->google-cloud-storage) (3.1.1)\n",
      "Requirement already satisfied, skipping upgrade: pyasn1-modules>=0.2.1 in /anaconda3/lib/python3.7/site-packages (from google-auth>=1.2.0->google-cloud-storage) (0.2.6)\n",
      "Requirement already satisfied, skipping upgrade: rsa>=3.1.4 in /anaconda3/lib/python3.7/site-packages (from google-auth>=1.2.0->google-cloud-storage) (4.0)\n",
      "Requirement already satisfied, skipping upgrade: google-api-core<2.0.0dev,>=1.14.0 in /anaconda3/lib/python3.7/site-packages (from google-cloud-core<2.0dev,>=1.0.0->google-cloud-storage) (1.14.2)\n",
      "Requirement already satisfied, skipping upgrade: pyasn1<0.5.0,>=0.4.6 in /anaconda3/lib/python3.7/site-packages (from pyasn1-modules>=0.2.1->google-auth>=1.2.0->google-cloud-storage) (0.4.6)\n",
      "Requirement already satisfied, skipping upgrade: setuptools>=34.0.0 in /anaconda3/lib/python3.7/site-packages (from google-api-core<2.0.0dev,>=1.14.0->google-cloud-core<2.0dev,>=1.0.0->google-cloud-storage) (40.8.0)\n",
      "Requirement already satisfied, skipping upgrade: googleapis-common-protos<2.0dev,>=1.6.0 in /anaconda3/lib/python3.7/site-packages (from google-api-core<2.0.0dev,>=1.14.0->google-cloud-core<2.0dev,>=1.0.0->google-cloud-storage) (1.6.0)\n",
      "Requirement already satisfied, skipping upgrade: pytz in /anaconda3/lib/python3.7/site-packages (from google-api-core<2.0.0dev,>=1.14.0->google-cloud-core<2.0dev,>=1.0.0->google-cloud-storage) (2018.9)\n",
      "Requirement already satisfied, skipping upgrade: protobuf>=3.4.0 in /anaconda3/lib/python3.7/site-packages (from google-api-core<2.0.0dev,>=1.14.0->google-cloud-core<2.0dev,>=1.0.0->google-cloud-storage) (3.9.1)\n",
      "Requirement already satisfied, skipping upgrade: requests<3.0.0dev,>=2.18.0 in /anaconda3/lib/python3.7/site-packages (from google-api-core<2.0.0dev,>=1.14.0->google-cloud-core<2.0dev,>=1.0.0->google-cloud-storage) (2.21.0)\n",
      "Requirement already satisfied, skipping upgrade: idna<2.9,>=2.5 in /anaconda3/lib/python3.7/site-packages (from requests<3.0.0dev,>=2.18.0->google-api-core<2.0.0dev,>=1.14.0->google-cloud-core<2.0dev,>=1.0.0->google-cloud-storage) (2.8)\n",
      "Requirement already satisfied, skipping upgrade: chardet<3.1.0,>=3.0.2 in /anaconda3/lib/python3.7/site-packages (from requests<3.0.0dev,>=2.18.0->google-api-core<2.0.0dev,>=1.14.0->google-cloud-core<2.0dev,>=1.0.0->google-cloud-storage) (3.0.4)\n",
      "Requirement already satisfied, skipping upgrade: urllib3<1.25,>=1.21.1 in /anaconda3/lib/python3.7/site-packages (from requests<3.0.0dev,>=2.18.0->google-api-core<2.0.0dev,>=1.14.0->google-cloud-core<2.0dev,>=1.0.0->google-cloud-storage) (1.24.1)\n",
      "Requirement already satisfied, skipping upgrade: certifi>=2017.4.17 in /anaconda3/lib/python3.7/site-packages (from requests<3.0.0dev,>=2.18.0->google-api-core<2.0.0dev,>=1.14.0->google-cloud-core<2.0dev,>=1.0.0->google-cloud-storage) (2019.3.9)\n",
      "Installing collected packages: google-cloud-core, google-resumable-media, google-cloud-storage\n",
      "Successfully installed google-cloud-core-1.0.3 google-cloud-storage-1.18.0 google-resumable-media-0.3.2\n",
      "Note: you may need to restart the kernel to use updated packages.\n"
     ]
    }
   ],
   "source": [
    "pip install --upgrade google-cloud-storage"
   ]
  },
  {
   "cell_type": "code",
   "execution_count": 1,
   "metadata": {},
   "outputs": [],
   "source": [
    "import os\n",
    "os.getcwd()\n",
    "os.environ[\"GOOGLE_APPLICATION_CREDENTIALS\"]=\"api-key.json\""
   ]
  },
  {
   "cell_type": "code",
   "execution_count": 2,
   "metadata": {},
   "outputs": [
    {
     "name": "stdout",
     "output_type": "stream",
     "text": [
      "Requirement already satisfied: librosa in /anaconda3/lib/python3.7/site-packages (0.7.0)\n",
      "Requirement already satisfied: numpy>=1.15.0 in /anaconda3/lib/python3.7/site-packages (from librosa) (1.16.2)\n",
      "Requirement already satisfied: joblib>=0.12 in /anaconda3/lib/python3.7/site-packages (from librosa) (0.13.2)\n",
      "Requirement already satisfied: scipy>=1.0.0 in /anaconda3/lib/python3.7/site-packages (from librosa) (1.2.1)\n",
      "Requirement already satisfied: six>=1.3 in /anaconda3/lib/python3.7/site-packages (from librosa) (1.12.0)\n",
      "Requirement already satisfied: soundfile>=0.9.0 in /anaconda3/lib/python3.7/site-packages (from librosa) (0.10.2)\n",
      "Requirement already satisfied: numba>=0.38.0 in /anaconda3/lib/python3.7/site-packages (from librosa) (0.43.1)\n",
      "Requirement already satisfied: audioread>=2.0.0 in /anaconda3/lib/python3.7/site-packages (from librosa) (2.1.8)\n",
      "Requirement already satisfied: decorator>=3.0.0 in /anaconda3/lib/python3.7/site-packages (from librosa) (4.4.0)\n",
      "Requirement already satisfied: scikit-learn!=0.19.0,>=0.14.0 in /anaconda3/lib/python3.7/site-packages (from librosa) (0.20.3)\n",
      "Requirement already satisfied: resampy>=0.2.0 in /anaconda3/lib/python3.7/site-packages (from librosa) (0.2.1)\n",
      "Requirement already satisfied: cffi>=1.0 in /anaconda3/lib/python3.7/site-packages (from soundfile>=0.9.0->librosa) (1.12.2)\n",
      "Requirement already satisfied: llvmlite>=0.28.0dev0 in /anaconda3/lib/python3.7/site-packages (from numba>=0.38.0->librosa) (0.28.0)\n",
      "Requirement already satisfied: pycparser in /anaconda3/lib/python3.7/site-packages (from cffi>=1.0->soundfile>=0.9.0->librosa) (2.19)\n",
      "Note: you may need to restart the kernel to use updated packages.\n"
     ]
    }
   ],
   "source": [
    "pip install librosa"
   ]
  },
  {
   "cell_type": "code",
   "execution_count": 39,
   "metadata": {},
   "outputs": [
    {
     "name": "stdout",
     "output_type": "stream",
     "text": [
      "Requirement already satisfied: soundfile in /anaconda3/lib/python3.7/site-packages (0.10.2)\n",
      "Requirement already satisfied: cffi>=1.0 in /anaconda3/lib/python3.7/site-packages (from soundfile) (1.12.2)\n",
      "Requirement already satisfied: pycparser in /anaconda3/lib/python3.7/site-packages (from cffi>=1.0->soundfile) (2.19)\n",
      "Note: you may need to restart the kernel to use updated packages.\n"
     ]
    }
   ],
   "source": [
    "pip install soundfile"
   ]
  },
  {
   "cell_type": "code",
   "execution_count": 41,
   "metadata": {},
   "outputs": [],
   "source": [
    "import librosa\n",
    "import soundfile as sf"
   ]
  },
  {
   "cell_type": "code",
   "execution_count": 12,
   "metadata": {},
   "outputs": [],
   "source": [
    "filepath = \"/Users/rohanjohn/Documents/music/\"     #Input audio file path\n",
    "output_filepath = \"/Users/rohanjohn/Documents/Transcripts\"#Final transcript path\n",
    "bucketname = \"callcenteraudio\" #Name of the bucket created in the step before\n",
    "\n",
    "\n",
    "from pydub import AudioSegment\n",
    "import io\n",
    "import os\n",
    "from google.cloud import speech\n",
    "from google.cloud.speech import enums\n",
    "from google.cloud.speech import types\n",
    "import wave\n",
    "from google.cloud import storage"
   ]
  },
  {
   "cell_type": "code",
   "execution_count": 2,
   "metadata": {},
   "outputs": [],
   "source": [
    "import os\n",
    "import speech_recognition as sr\n",
    "from tqdm import tqdm\n",
    "\n",
    "with open(\"api-key.json\") as f:\n",
    "    GOOGLE_CLOUD_SPEECH_CREDENTIALS = f.read()"
   ]
  },
  {
   "cell_type": "code",
   "execution_count": 3,
   "metadata": {},
   "outputs": [
    {
     "ename": "NameError",
     "evalue": "name 'credentials' is not defined",
     "output_type": "error",
     "traceback": [
      "\u001b[0;31m---------------------------------------------------------------------------\u001b[0m",
      "\u001b[0;31mNameError\u001b[0m                                 Traceback (most recent call last)",
      "\u001b[0;32m<ipython-input-3-67106e3d10c0>\u001b[0m in \u001b[0;36m<module>\u001b[0;34m\u001b[0m\n\u001b[1;32m      3\u001b[0m \u001b[0;32mimport\u001b[0m \u001b[0mos\u001b[0m\u001b[0;34m\u001b[0m\u001b[0;34m\u001b[0m\u001b[0m\n\u001b[1;32m      4\u001b[0m \u001b[0mcredential\u001b[0m \u001b[0;34m=\u001b[0m \u001b[0mservice_account\u001b[0m\u001b[0;34m.\u001b[0m\u001b[0mCredentials\u001b[0m\u001b[0;34m.\u001b[0m\u001b[0mfrom_service_account_file\u001b[0m\u001b[0;34m(\u001b[0m\u001b[0;34m\"/Users/rohanjohn/Downloads/neat-beaker-249716-9490dd4bfd30.json\"\u001b[0m\u001b[0;34m)\u001b[0m\u001b[0;34m\u001b[0m\u001b[0;34m\u001b[0m\u001b[0m\n\u001b[0;32m----> 5\u001b[0;31m \u001b[0mprint\u001b[0m \u001b[0;34m(\u001b[0m\u001b[0mcredentials\u001b[0m\u001b[0;34m)\u001b[0m\u001b[0;34m\u001b[0m\u001b[0;34m\u001b[0m\u001b[0m\n\u001b[0m\u001b[1;32m      6\u001b[0m \u001b[0;31m#client = language.LanguageServiceClient(credentials=credentials)\u001b[0m\u001b[0;34m\u001b[0m\u001b[0;34m\u001b[0m\u001b[0;34m\u001b[0m\u001b[0m\n",
      "\u001b[0;31mNameError\u001b[0m: name 'credentials' is not defined"
     ]
    }
   ],
   "source": [
    "\n",
    "from google.oauth2 import service_account\n",
    "import os\n",
    "credential = service_account.Credentials.from_service_account_file(\"/Users/rohanjohn/Downloads/neat-beaker-249716-9490dd4bfd30.json\")\n",
    "print (credentials)\n",
    "#client = language.LanguageServiceClient(credentials=credentials)"
   ]
  },
  {
   "cell_type": "code",
   "execution_count": 3,
   "metadata": {},
   "outputs": [],
   "source": [
    "def mp3_to_wav(audio_file_name):\n",
    "    if audio_file_name.split('.')[1] == 'mp3':    \n",
    "        sound = AudioSegment.from_mp3(audio_file_name)\n",
    "        audio_file_name = audio_file_name.split('.')[0] + '.wav'\n",
    "        sound.export(audio_file_name, format=\"wav\")\n"
   ]
  },
  {
   "cell_type": "code",
   "execution_count": 4,
   "metadata": {},
   "outputs": [],
   "source": [
    "def stereo_to_mono(audio_file_name):\n",
    "    sound = AudioSegment.from_wav(audio_file_name)\n",
    "    sound = sound.set_channels(1)\n",
    "    sound.export(audio_file_name, format=\"wav\")"
   ]
  },
  {
   "cell_type": "code",
   "execution_count": 5,
   "metadata": {},
   "outputs": [],
   "source": [
    "def frame_rate_channel(audio_file_name):\n",
    "   # x,_ = librosa.load(audio_file_name, sr=16000)\n",
    "   # sf.write('tmp.wav', x, 16000)\n",
    "    with wave.open(audio_file_name, \"rb\") as wave_file:\n",
    "        frame_rate = wave_file.getframerate()\n",
    "        channels = wave_file.getnchannels()\n",
    "        return frame_rate,channels"
   ]
  },
  {
   "cell_type": "code",
   "execution_count": 6,
   "metadata": {},
   "outputs": [],
   "source": [
    "def upload_blob(bucket_name, source_file_name, destination_blob_name):\n",
    "    storage_client = storage.Client()\n",
    "    bucket = storage_client.get_bucket(bucket_name)\n",
    "    blob = bucket.blob(destination_blob_name)\n",
    "\n",
    "    blob.upload_from_filename(source_file_name)"
   ]
  },
  {
   "cell_type": "code",
   "execution_count": 7,
   "metadata": {},
   "outputs": [],
   "source": [
    "def delete_blob(bucket_name, blob_name):\n",
    "    storage_client = storage.Client()\n",
    "    bucket = storage_client.get_bucket(bucket_name)\n",
    "    blob = bucket.blob(blob_name)\n",
    "\n",
    "    blob.delete()"
   ]
  },
  {
   "cell_type": "code",
   "execution_count": 8,
   "metadata": {},
   "outputs": [],
   "source": [
    "def google_transcribe(audio_file_name):\n",
    "    \n",
    "    file_name = filepath + audio_file_name\n",
    "    mp3_to_wav(file_name)\n",
    "\n",
    "    # The name of the audio file to transcribe\n",
    "    \n",
    "    frame_rate, channels = frame_rate_channel(file_name)\n",
    "    \n",
    "    if channels > 1:\n",
    "        stereo_to_mono(file_name)\n",
    "    \n",
    "    bucket_name = bucketname\n",
    "    source_file_name = filepath + audio_file_name\n",
    "    destination_blob_name = audio_file_name\n",
    "    \n",
    "    upload_blob(bucket_name, source_file_name, destination_blob_name)\n",
    "    \n",
    "    gcs_uri = 'gs://' + bucketname + '/' + audio_file_name\n",
    "    transcript = ''\n",
    "    \n",
    "    client = speech.SpeechClient()\n",
    "    audio = types.RecognitionAudio(uri=gcs_uri)\n",
    "\n",
    "    config = types.RecognitionConfig(\n",
    "    encoding=enums.RecognitionConfig.AudioEncoding.LINEAR16,\n",
    "    sample_rate_hertz=frame_rate,\n",
    "    language_code='hi-IN')\n",
    "\n",
    "    # Detects speech in the audio file\n",
    "    operation = client.long_running_recognize(config, audio)\n",
    "    response = operation.result(timeout=10000)\n",
    "\n",
    "    for result in response.results:\n",
    "        transcript += result.alternatives[0].transcript\n",
    "    \n",
    "    delete_blob(bucket_name, destination_blob_name)\n",
    "    return transcript\n",
    "\n",
    "    \n",
    "    "
   ]
  },
  {
   "cell_type": "code",
   "execution_count": 9,
   "metadata": {},
   "outputs": [],
   "source": [
    "\n",
    "def write_transcripts(transcript_filename,transcript):\n",
    "    f= open(output_filepath + transcript_filename,\"w+\")\n",
    "    f.write(transcript)\n",
    "    f.close()"
   ]
  },
  {
   "cell_type": "code",
   "execution_count": 10,
   "metadata": {},
   "outputs": [
    {
     "data": {
      "text/plain": [
       "['hindicall.wav', '.DS_Store']"
      ]
     },
     "execution_count": 10,
     "metadata": {},
     "output_type": "execute_result"
    }
   ],
   "source": [
    "os.listdir(filepath)"
   ]
  },
  {
   "cell_type": "code",
   "execution_count": 11,
   "metadata": {},
   "outputs": [
    {
     "name": "stdout",
     "output_type": "stream",
     "text": [
      "/anaconda3/bin:/anaconda3/bin:/anaconda3/condabin:/usr/local/bin:/usr/bin:/bin:/usr/sbin:/sbin\n"
     ]
    }
   ],
   "source": [
    "import os\n",
    "print (os.environ['PATH'])"
   ]
  },
  {
   "cell_type": "code",
   "execution_count": 99,
   "metadata": {},
   "outputs": [
    {
     "name": "stdout",
     "output_type": "stream",
     "text": [
      "Collecting ffmpeg\n",
      "  Downloading https://files.pythonhosted.org/packages/f0/cc/3b7408b8ecf7c1d20ad480c3eaed7619857bf1054b690226e906fdf14258/ffmpeg-1.4.tar.gz\n",
      "Building wheels for collected packages: ffmpeg\n",
      "  Building wheel for ffmpeg (setup.py) ... \u001b[?25ldone\n",
      "\u001b[?25h  Stored in directory: /Users/rohanjohn/Library/Caches/pip/wheels/b6/68/c3/a05a35f647ba871e5572b9bbfc0b95fd1c6637a2219f959e7a\n",
      "Successfully built ffmpeg\n",
      "Installing collected packages: ffmpeg\n",
      "Successfully installed ffmpeg-1.4\n",
      "Note: you may need to restart the kernel to use updated packages.\n"
     ]
    }
   ],
   "source": [
    "pip install ffmpeg"
   ]
  },
  {
   "cell_type": "code",
   "execution_count": 13,
   "metadata": {},
   "outputs": [],
   "source": [
    "if __name__ == \"__main__\":\n",
    "    for audio_file_name in os.listdir(filepath):\n",
    "        transcript = google_transcribe(audio_file_name)\n",
    "        transcript_filename = audio_file_name.split('.')[0] + '.txt'\n",
    "        write_transcripts(transcript_filename,transcript)"
   ]
  },
  {
   "cell_type": "code",
   "execution_count": 14,
   "metadata": {},
   "outputs": [
    {
     "name": "stdout",
     "output_type": "stream",
     "text": [
      "सुप्रभात क्या मेरी बात सुश्री प्रभाकर से हो रही है हां बात कर रही हूं मेरा नाम सुरभि है और मैं हाल ही में आपके लिए भेजे गए एक महत्वपूर्ण प्रस्ताव के बारे में रैली गेट की तरफ से फोन कर रही हूं हम प्रतिक्रियाओं की समीक्षा कर रहे हैं और ध्यान दिया है कि हमें आप की प्रतिकृति अभी तक नहीं मिली है जैसा कि इस ऑफर की समाप्ति की तारीख नजदीक आ रही है इसलिए मैं आपके अपने बीमा कवर को बढ़ाने की शानदार अक्षर के बारे में बताना चाहूंगी जारी रखने से पहले मुझे आपको सूचित करना होगा कि यह कॉल गुणवत्ता आश्वासन के लिए रिकॉर्ड किया जा रहा है यह आपके लिए उचित है हां श्री प्रभाकर जैसे कि आप पहले आप पहले से ही स्वास्थ्य बीमा होने का मूल्य जानती है जैसा कि इस अनिश्चित काल में हमें लगता है कि हमारे पॉलिसी धारकों के लिए अपने परिवार की जरूरतों को पूरा करने हेतु पर्याप्त दुर्घटना बीमा का होना अधिक महत्वपूर्ण है आपको हाल ही में मेरे द्वारा हमने एक पत्र हमसे एक पत्र प्राप्त हुआ होगा तेरे लिए आपको एक विशिष्ट बीमा उत्पाद प्रदान कर रहा है जिसे सिक्योर पथएक्सीडेंट कहा जाता है आकस्मिक मृत्यु कवर के अंतर्गत 10 लाख की धनराशि के अलावा पॉलिसी सामान्य राशि के लिए ट्रेन फ्लाइट या बस यात्रा करते समय आकस्मिक मृत्यु के लिए इस राशि का दोगुना भुगतान करता है और दुर्घटना की राशि में अस्पताल में भर्ती होने के 5 दिनों तक प्रतिदिन 10000 की दैनिक लाभ दिया जाएगा जैसा कि आप हमारे मूल्यवान पॉलिसी धारक हैं इसलिए आपको इसका सीधा लाभ मिलेगा बिना किसी चिकित्सीय जांच के हम आपको यह खबर मात्र 10000 प्रति वर्ष के प्रीमियर में दे रहे हैं जिसका भुगतान उसी तरह किया जा सकता है जैसे आप की वर्तमान समस्या स्थिति का भुगतान किया जा रहा है जैसे कि हम आप की स्वीकृति से पहले का पहला प्रीमियम प्राप्त करेंगे आपका कब्र शुरू हो जाएगा जी प्रभाकर क्या आप इस प्रस्ताव को लेने की इच्छुक हैं हां मेरा विचार है खिचड़ी इस विमानन के लिए चिकित्सा परीक्षा की आवश्यकता नहीं\n"
     ]
    }
   ],
   "source": [
    "print(transcript)"
   ]
  },
  {
   "cell_type": "code",
   "execution_count": 16,
   "metadata": {},
   "outputs": [
    {
     "name": "stdout",
     "output_type": "stream",
     "text": [
      "Collecting googletrans\n",
      "  Downloading https://files.pythonhosted.org/packages/fd/f0/a22d41d3846d1f46a4f20086141e0428ccc9c6d644aacbfd30990cf46886/googletrans-2.4.0.tar.gz\n",
      "Requirement already satisfied: requests in /anaconda3/lib/python3.7/site-packages (from googletrans) (2.22.0)\n",
      "Requirement already satisfied: chardet<3.1.0,>=3.0.2 in /anaconda3/lib/python3.7/site-packages (from requests->googletrans) (3.0.4)\n",
      "Requirement already satisfied: urllib3!=1.25.0,!=1.25.1,<1.26,>=1.21.1 in /anaconda3/lib/python3.7/site-packages (from requests->googletrans) (1.24.1)\n",
      "Requirement already satisfied: certifi>=2017.4.17 in /anaconda3/lib/python3.7/site-packages (from requests->googletrans) (2019.3.9)\n",
      "Requirement already satisfied: idna<2.9,>=2.5 in /anaconda3/lib/python3.7/site-packages (from requests->googletrans) (2.8)\n",
      "Building wheels for collected packages: googletrans\n",
      "  Building wheel for googletrans (setup.py) ... \u001b[?25ldone\n",
      "\u001b[?25h  Stored in directory: /Users/rohanjohn/Library/Caches/pip/wheels/50/d6/e7/a8efd5f2427d5eb258070048718fa56ee5ac57fd6f53505f95\n",
      "Successfully built googletrans\n",
      "Installing collected packages: googletrans\n",
      "Successfully installed googletrans-2.4.0\n",
      "Note: you may need to restart the kernel to use updated packages.\n"
     ]
    }
   ],
   "source": [
    "pip install googletrans"
   ]
  },
  {
   "cell_type": "code",
   "execution_count": 17,
   "metadata": {},
   "outputs": [],
   "source": [
    "from googletrans import Translator"
   ]
  },
  {
   "cell_type": "code",
   "execution_count": 20,
   "metadata": {},
   "outputs": [],
   "source": [
    " t = Translator()\n",
    "translated =  t.translate(transcript)"
   ]
  },
  {
   "cell_type": "code",
   "execution_count": 21,
   "metadata": {},
   "outputs": [
    {
     "name": "stdout",
     "output_type": "stream",
     "text": [
      "Translated(src=hi, dest=en, text=Good morning, I am talking to Ms. Prabhakar, yes I am talking, my name is Surabhi and I am calling on behalf of rally gate about an important proposal sent to you recently. We are reviewing the responses. And have noticed that we have not received your replica as of now, as the expiry date of this offer is approaching, so I am brilliant to increase your own insurance cover I would like to inform you about the letter before continuing. This call is being recorded for quality assurance. It is appropriate for you. Yes Mr. Prabhakar as if you already know the value of having health insurance already. As we feel in this indefinite period, our policy holders have enough accident insurance to meet the needs of their family. It is important that you have received a letter from me recently. I am providing you with a specific insurance product called Secure Path Accident under the Accidental Death Cover for a sum of Rs. 10 lakh plus the policy normal amount. One pays double this amount for accidental death while traveling by train flight or bus and in hospital for the amount of accident Daily benefit of 10000 per day will be given for 5 days of recruitment as you are our valued policy holder so you will get direct benefit of this, without any medical examination, we are giving this news to you only in the premiere of 10000 pa which is paid in the same way. It can be done as if your current problem situation is being paid as if we will get the first premium before your acceptance. Cooked grave will begin G. Prabhakar Are you willing to take this proposal so I think there is no need of waiting medical examination for aviation, pronunciation=None, extra_data=\"{'translat...\")\n"
     ]
    }
   ],
   "source": [
    "print(translated)"
   ]
  },
  {
   "cell_type": "code",
   "execution_count": 39,
   "metadata": {},
   "outputs": [
    {
     "name": "stdout",
     "output_type": "stream",
     "text": [
      "Collecting google-cloud-language\n",
      "\u001b[?25l  Downloading https://files.pythonhosted.org/packages/ba/b8/965a97ba60287910d342623da1da615254bded3e0965728cf7fc6339b7c8/google_cloud_language-1.3.0-py2.py3-none-any.whl (83kB)\n",
      "\u001b[K    100% |████████████████████████████████| 92kB 69kB/s ta 0:00:01\n",
      "\u001b[?25hRequirement already satisfied: google-api-core[grpc]<2.0.0dev,>=1.14.0 in /anaconda3/lib/python3.7/site-packages (from google-cloud-language) (1.14.2)\n",
      "Requirement already satisfied: protobuf>=3.4.0 in /anaconda3/lib/python3.7/site-packages (from google-api-core[grpc]<2.0.0dev,>=1.14.0->google-cloud-language) (3.9.1)\n",
      "Requirement already satisfied: pytz in /anaconda3/lib/python3.7/site-packages (from google-api-core[grpc]<2.0.0dev,>=1.14.0->google-cloud-language) (2018.9)\n",
      "Requirement already satisfied: google-auth<2.0dev,>=0.4.0 in /anaconda3/lib/python3.7/site-packages (from google-api-core[grpc]<2.0.0dev,>=1.14.0->google-cloud-language) (1.6.3)\n",
      "Requirement already satisfied: six>=1.10.0 in /anaconda3/lib/python3.7/site-packages (from google-api-core[grpc]<2.0.0dev,>=1.14.0->google-cloud-language) (1.12.0)\n",
      "Requirement already satisfied: setuptools>=34.0.0 in /anaconda3/lib/python3.7/site-packages (from google-api-core[grpc]<2.0.0dev,>=1.14.0->google-cloud-language) (40.8.0)\n",
      "Requirement already satisfied: googleapis-common-protos<2.0dev,>=1.6.0 in /anaconda3/lib/python3.7/site-packages (from google-api-core[grpc]<2.0.0dev,>=1.14.0->google-cloud-language) (1.6.0)\n",
      "Requirement already satisfied: requests<3.0.0dev,>=2.18.0 in /anaconda3/lib/python3.7/site-packages (from google-api-core[grpc]<2.0.0dev,>=1.14.0->google-cloud-language) (2.21.0)\n",
      "Requirement already satisfied: grpcio<2.0dev,>=1.8.2; extra == \"grpc\" in /anaconda3/lib/python3.7/site-packages (from google-api-core[grpc]<2.0.0dev,>=1.14.0->google-cloud-language) (1.22.0)\n",
      "Requirement already satisfied: cachetools>=2.0.0 in /anaconda3/lib/python3.7/site-packages (from google-auth<2.0dev,>=0.4.0->google-api-core[grpc]<2.0.0dev,>=1.14.0->google-cloud-language) (3.1.1)\n",
      "Requirement already satisfied: pyasn1-modules>=0.2.1 in /anaconda3/lib/python3.7/site-packages (from google-auth<2.0dev,>=0.4.0->google-api-core[grpc]<2.0.0dev,>=1.14.0->google-cloud-language) (0.2.6)\n",
      "Requirement already satisfied: rsa>=3.1.4 in /anaconda3/lib/python3.7/site-packages (from google-auth<2.0dev,>=0.4.0->google-api-core[grpc]<2.0.0dev,>=1.14.0->google-cloud-language) (4.0)\n",
      "Requirement already satisfied: idna<2.9,>=2.5 in /anaconda3/lib/python3.7/site-packages (from requests<3.0.0dev,>=2.18.0->google-api-core[grpc]<2.0.0dev,>=1.14.0->google-cloud-language) (2.8)\n",
      "Requirement already satisfied: chardet<3.1.0,>=3.0.2 in /anaconda3/lib/python3.7/site-packages (from requests<3.0.0dev,>=2.18.0->google-api-core[grpc]<2.0.0dev,>=1.14.0->google-cloud-language) (3.0.4)\n",
      "Requirement already satisfied: urllib3<1.25,>=1.21.1 in /anaconda3/lib/python3.7/site-packages (from requests<3.0.0dev,>=2.18.0->google-api-core[grpc]<2.0.0dev,>=1.14.0->google-cloud-language) (1.24.1)\n",
      "Requirement already satisfied: certifi>=2017.4.17 in /anaconda3/lib/python3.7/site-packages (from requests<3.0.0dev,>=2.18.0->google-api-core[grpc]<2.0.0dev,>=1.14.0->google-cloud-language) (2019.3.9)\n",
      "Requirement already satisfied: pyasn1<0.5.0,>=0.4.6 in /anaconda3/lib/python3.7/site-packages (from pyasn1-modules>=0.2.1->google-auth<2.0dev,>=0.4.0->google-api-core[grpc]<2.0.0dev,>=1.14.0->google-cloud-language) (0.4.6)\n",
      "Installing collected packages: google-cloud-language\n",
      "Successfully installed google-cloud-language-1.3.0\n",
      "Note: you may need to restart the kernel to use updated packages.\n"
     ]
    }
   ],
   "source": [
    "pip install google-cloud-language"
   ]
  },
  {
   "cell_type": "code",
   "execution_count": 23,
   "metadata": {},
   "outputs": [],
   "source": [
    "from google.cloud import language"
   ]
  },
  {
   "cell_type": "code",
   "execution_count": 42,
   "metadata": {},
   "outputs": [
    {
     "name": "stdout",
     "output_type": "stream",
     "text": [
      "Collecting requests\n",
      "\u001b[?25l  Downloading https://files.pythonhosted.org/packages/51/bd/23c926cd341ea6b7dd0b2a00aba99ae0f828be89d72b2190f27c11d4b7fb/requests-2.22.0-py2.py3-none-any.whl (57kB)\n",
      "\u001b[K    100% |████████████████████████████████| 61kB 42kB/s ta 0:00:016\n",
      "\u001b[?25hRequirement already up-to-date: google-cloud-language in /anaconda3/lib/python3.7/site-packages (1.3.0)\n",
      "Requirement already satisfied, skipping upgrade: urllib3!=1.25.0,!=1.25.1,<1.26,>=1.21.1 in /anaconda3/lib/python3.7/site-packages (from requests) (1.24.1)\n",
      "Requirement already satisfied, skipping upgrade: chardet<3.1.0,>=3.0.2 in /anaconda3/lib/python3.7/site-packages (from requests) (3.0.4)\n",
      "Requirement already satisfied, skipping upgrade: certifi>=2017.4.17 in /anaconda3/lib/python3.7/site-packages (from requests) (2019.3.9)\n",
      "Requirement already satisfied, skipping upgrade: idna<2.9,>=2.5 in /anaconda3/lib/python3.7/site-packages (from requests) (2.8)\n",
      "Requirement already satisfied, skipping upgrade: google-api-core[grpc]<2.0.0dev,>=1.14.0 in /anaconda3/lib/python3.7/site-packages (from google-cloud-language) (1.14.2)\n",
      "Requirement already satisfied, skipping upgrade: protobuf>=3.4.0 in /anaconda3/lib/python3.7/site-packages (from google-api-core[grpc]<2.0.0dev,>=1.14.0->google-cloud-language) (3.9.1)\n",
      "Requirement already satisfied, skipping upgrade: googleapis-common-protos<2.0dev,>=1.6.0 in /anaconda3/lib/python3.7/site-packages (from google-api-core[grpc]<2.0.0dev,>=1.14.0->google-cloud-language) (1.6.0)\n",
      "Requirement already satisfied, skipping upgrade: google-auth<2.0dev,>=0.4.0 in /anaconda3/lib/python3.7/site-packages (from google-api-core[grpc]<2.0.0dev,>=1.14.0->google-cloud-language) (1.6.3)\n",
      "Requirement already satisfied, skipping upgrade: setuptools>=34.0.0 in /anaconda3/lib/python3.7/site-packages (from google-api-core[grpc]<2.0.0dev,>=1.14.0->google-cloud-language) (40.8.0)\n",
      "Requirement already satisfied, skipping upgrade: six>=1.10.0 in /anaconda3/lib/python3.7/site-packages (from google-api-core[grpc]<2.0.0dev,>=1.14.0->google-cloud-language) (1.12.0)\n",
      "Requirement already satisfied, skipping upgrade: pytz in /anaconda3/lib/python3.7/site-packages (from google-api-core[grpc]<2.0.0dev,>=1.14.0->google-cloud-language) (2018.9)\n",
      "Requirement already satisfied, skipping upgrade: grpcio<2.0dev,>=1.8.2; extra == \"grpc\" in /anaconda3/lib/python3.7/site-packages (from google-api-core[grpc]<2.0.0dev,>=1.14.0->google-cloud-language) (1.22.0)\n",
      "Requirement already satisfied, skipping upgrade: pyasn1-modules>=0.2.1 in /anaconda3/lib/python3.7/site-packages (from google-auth<2.0dev,>=0.4.0->google-api-core[grpc]<2.0.0dev,>=1.14.0->google-cloud-language) (0.2.6)\n",
      "Requirement already satisfied, skipping upgrade: rsa>=3.1.4 in /anaconda3/lib/python3.7/site-packages (from google-auth<2.0dev,>=0.4.0->google-api-core[grpc]<2.0.0dev,>=1.14.0->google-cloud-language) (4.0)\n",
      "Requirement already satisfied, skipping upgrade: cachetools>=2.0.0 in /anaconda3/lib/python3.7/site-packages (from google-auth<2.0dev,>=0.4.0->google-api-core[grpc]<2.0.0dev,>=1.14.0->google-cloud-language) (3.1.1)\n",
      "Requirement already satisfied, skipping upgrade: pyasn1<0.5.0,>=0.4.6 in /anaconda3/lib/python3.7/site-packages (from pyasn1-modules>=0.2.1->google-auth<2.0dev,>=0.4.0->google-api-core[grpc]<2.0.0dev,>=1.14.0->google-cloud-language) (0.4.6)\n",
      "Installing collected packages: requests\n",
      "  Found existing installation: requests 2.21.0\n",
      "    Uninstalling requests-2.21.0:\n",
      "      Successfully uninstalled requests-2.21.0\n",
      "Successfully installed requests-2.22.0\n",
      "Note: you may need to restart the kernel to use updated packages.\n"
     ]
    }
   ],
   "source": [
    "pip install --upgrade requests google-cloud-language"
   ]
  },
  {
   "cell_type": "code",
   "execution_count": 24,
   "metadata": {},
   "outputs": [],
   "source": [
    "from google.cloud.language import types"
   ]
  },
  {
   "cell_type": "code",
   "execution_count": 49,
   "metadata": {},
   "outputs": [
    {
     "name": "stdout",
     "output_type": "stream",
     "text": [
      "Requirement already up-to-date: google-cloud-language in /anaconda3/lib/python3.7/site-packages (1.3.0)\n",
      "Requirement already satisfied, skipping upgrade: google-api-core[grpc]<2.0.0dev,>=1.14.0 in /anaconda3/lib/python3.7/site-packages (from google-cloud-language) (1.14.2)\n",
      "Requirement already satisfied, skipping upgrade: pytz in /anaconda3/lib/python3.7/site-packages (from google-api-core[grpc]<2.0.0dev,>=1.14.0->google-cloud-language) (2018.9)\n",
      "Requirement already satisfied, skipping upgrade: google-auth<2.0dev,>=0.4.0 in /anaconda3/lib/python3.7/site-packages (from google-api-core[grpc]<2.0.0dev,>=1.14.0->google-cloud-language) (1.6.3)\n",
      "Requirement already satisfied, skipping upgrade: setuptools>=34.0.0 in /anaconda3/lib/python3.7/site-packages (from google-api-core[grpc]<2.0.0dev,>=1.14.0->google-cloud-language) (40.8.0)\n",
      "Requirement already satisfied, skipping upgrade: protobuf>=3.4.0 in /anaconda3/lib/python3.7/site-packages (from google-api-core[grpc]<2.0.0dev,>=1.14.0->google-cloud-language) (3.9.1)\n",
      "Requirement already satisfied, skipping upgrade: requests<3.0.0dev,>=2.18.0 in /anaconda3/lib/python3.7/site-packages (from google-api-core[grpc]<2.0.0dev,>=1.14.0->google-cloud-language) (2.22.0)\n",
      "Requirement already satisfied, skipping upgrade: googleapis-common-protos<2.0dev,>=1.6.0 in /anaconda3/lib/python3.7/site-packages (from google-api-core[grpc]<2.0.0dev,>=1.14.0->google-cloud-language) (1.6.0)\n",
      "Requirement already satisfied, skipping upgrade: six>=1.10.0 in /anaconda3/lib/python3.7/site-packages (from google-api-core[grpc]<2.0.0dev,>=1.14.0->google-cloud-language) (1.12.0)\n",
      "Requirement already satisfied, skipping upgrade: grpcio<2.0dev,>=1.8.2; extra == \"grpc\" in /anaconda3/lib/python3.7/site-packages (from google-api-core[grpc]<2.0.0dev,>=1.14.0->google-cloud-language) (1.22.0)\n",
      "Requirement already satisfied, skipping upgrade: pyasn1-modules>=0.2.1 in /anaconda3/lib/python3.7/site-packages (from google-auth<2.0dev,>=0.4.0->google-api-core[grpc]<2.0.0dev,>=1.14.0->google-cloud-language) (0.2.6)\n",
      "Requirement already satisfied, skipping upgrade: cachetools>=2.0.0 in /anaconda3/lib/python3.7/site-packages (from google-auth<2.0dev,>=0.4.0->google-api-core[grpc]<2.0.0dev,>=1.14.0->google-cloud-language) (3.1.1)\n",
      "Requirement already satisfied, skipping upgrade: rsa>=3.1.4 in /anaconda3/lib/python3.7/site-packages (from google-auth<2.0dev,>=0.4.0->google-api-core[grpc]<2.0.0dev,>=1.14.0->google-cloud-language) (4.0)\n",
      "Requirement already satisfied, skipping upgrade: idna<2.9,>=2.5 in /anaconda3/lib/python3.7/site-packages (from requests<3.0.0dev,>=2.18.0->google-api-core[grpc]<2.0.0dev,>=1.14.0->google-cloud-language) (2.8)\n",
      "Requirement already satisfied, skipping upgrade: certifi>=2017.4.17 in /anaconda3/lib/python3.7/site-packages (from requests<3.0.0dev,>=2.18.0->google-api-core[grpc]<2.0.0dev,>=1.14.0->google-cloud-language) (2019.3.9)\n",
      "Requirement already satisfied, skipping upgrade: urllib3!=1.25.0,!=1.25.1,<1.26,>=1.21.1 in /anaconda3/lib/python3.7/site-packages (from requests<3.0.0dev,>=2.18.0->google-api-core[grpc]<2.0.0dev,>=1.14.0->google-cloud-language) (1.24.1)\n",
      "Requirement already satisfied, skipping upgrade: chardet<3.1.0,>=3.0.2 in /anaconda3/lib/python3.7/site-packages (from requests<3.0.0dev,>=2.18.0->google-api-core[grpc]<2.0.0dev,>=1.14.0->google-cloud-language) (3.0.4)\n",
      "Requirement already satisfied, skipping upgrade: pyasn1<0.5.0,>=0.4.6 in /anaconda3/lib/python3.7/site-packages (from pyasn1-modules>=0.2.1->google-auth<2.0dev,>=0.4.0->google-api-core[grpc]<2.0.0dev,>=1.14.0->google-cloud-language) (0.4.6)\n",
      "Note: you may need to restart the kernel to use updated packages.\n"
     ]
    }
   ],
   "source": [
    "pip install --upgrade google-cloud-language"
   ]
  },
  {
   "cell_type": "code",
   "execution_count": 28,
   "metadata": {},
   "outputs": [
    {
     "name": "stdout",
     "output_type": "stream",
     "text": [
      "['ByteSize', 'Clear', 'ClearExtension', 'ClearField', 'CopyFrom', 'DESCRIPTOR', 'DiscardUnknownFields', 'Extensions', 'FindInitializationErrors', 'FromString', 'HasExtension', 'HasField', 'IsInitialized', 'ListFields', 'MergeFrom', 'MergeFromString', 'ParseFromString', 'RegisterExtension', 'SerializePartialToString', 'SerializeToString', 'SetInParent', 'UnknownFields', 'WhichOneof', '_CheckCalledFromGeneratedFile', '_SetListener', '__class__', '__deepcopy__', '__delattr__', '__dir__', '__doc__', '__eq__', '__format__', '__ge__', '__getattribute__', '__getstate__', '__gt__', '__hash__', '__init__', '__init_subclass__', '__le__', '__lt__', '__module__', '__ne__', '__new__', '__reduce__', '__reduce_ex__', '__repr__', '__setattr__', '__setstate__', '__sizeof__', '__slots__', '__str__', '__subclasshook__', '__unicode__', '_extensions_by_name', '_extensions_by_number', 'magnitude', 'score']\n",
      "Text: Good morning, I am talking to Ms. Prabhakar, yes I am talking, my name is Surabhi and I am calling on behalf of rally gate about an important proposal sent to you recently. We are reviewing the responses. And have noticed that we have not received your replica as of now, as the expiry date of this offer is approaching, so I am brilliant to increase your own insurance cover I would like to inform you about the letter before continuing. This call is being recorded for quality assurance. It is appropriate for you. Yes Mr. Prabhakar as if you already know the value of having health insurance already. As we feel in this indefinite period, our policy holders have enough accident insurance to meet the needs of their family. It is important that you have received a letter from me recently. I am providing you with a specific insurance product called Secure Path Accident under the Accidental Death Cover for a sum of Rs. 10 lakh plus the policy normal amount. One pays double this amount for accidental death while traveling by train flight or bus and in hospital for the amount of accident Daily benefit of 10000 per day will be given for 5 days of recruitment as you are our valued policy holder so you will get direct benefit of this, without any medical examination, we are giving this news to you only in the premiere of 10000 pa which is paid in the same way. It can be done as if your current problem situation is being paid as if we will get the first premium before your acceptance. Cooked grave will begin G. Prabhakar Are you willing to take this proposal so I think there is no need of waiting medical examination for aviation\n",
      "Sentiment: 0.20000000298023224, 4.900000095367432\n",
      "('name', 'policy holder') ('type', 'PERSON') ('metadata', {}) ('salience', 0.241305410861969)\n",
      "('name', 'G. Prabhakar') ('type', 'PERSON') ('metadata', {}) ('salience', 0.18566277623176575)\n",
      "('name', 'name') ('type', 'OTHER') ('metadata', {}) ('salience', 0.06713145226240158)\n",
      "('name', 'proposal') ('type', 'WORK_OF_ART') ('metadata', {}) ('salience', 0.06361538916826248)\n",
      "('name', 'rally gate') ('type', 'OTHER') ('metadata', {}) ('salience', 0.05600316449999809)\n",
      "('name', 'behalf') ('type', 'OTHER') ('metadata', {}) ('salience', 0.05600316449999809)\n",
      "('name', 'Surabhi') ('type', 'PERSON') ('metadata', {}) ('salience', 0.04250390827655792)\n",
      "('name', 'policy holders') ('type', 'PERSON') ('metadata', {}) ('salience', 0.01934918388724327)\n",
      "('name', 'Prabhakar') ('type', 'PERSON') ('metadata', {}) ('salience', 0.019166620448231697)\n",
      "('name', 'pa') ('type', 'OTHER') ('metadata', {}) ('salience', 0.012158835306763649)\n",
      "('name', 'insurance cover') ('type', 'OTHER') ('metadata', {}) ('salience', 0.011655410751700401)\n",
      "('name', 'replica') ('type', 'OTHER') ('metadata', {}) ('salience', 0.01129735354334116)\n",
      "('name', 'offer') ('type', 'OTHER') ('metadata', {}) ('salience', 0.010240530595183372)\n",
      "('name', 'health insurance') ('type', 'OTHER') ('metadata', {}) ('salience', 0.009183666668832302)\n",
      "('name', 'accident insurance') ('type', 'OTHER') ('metadata', {}) ('salience', 0.009166294708848)\n",
      "('name', 'letter') ('type', 'WORK_OF_ART') ('metadata', {}) ('salience', 0.008682413958013058)\n",
      "('name', 'responses') ('type', 'OTHER') ('metadata', {}) ('salience', 0.008560002781450748)\n",
      "('name', 'amount') ('type', 'OTHER') ('metadata', {}) ('salience', 0.007904686965048313)\n",
      "('name', 'policy') ('type', 'OTHER') ('metadata', {}) ('salience', 0.007904686965048313)\n",
      "('name', 'amount') ('type', 'OTHER') ('metadata', {}) ('salience', 0.007894459180533886)\n",
      "('name', 'needs') ('type', 'OTHER') ('metadata', {}) ('salience', 0.007882530800998211)\n",
      "('name', 'letter') ('type', 'WORK_OF_ART') ('metadata', {}) ('salience', 0.007867754437029362)\n",
      "('name', 'death') ('type', 'EVENT') ('metadata', {}) ('salience', 0.007201153319329023)\n",
      "('name', 'family') ('type', 'PERSON') ('metadata', {}) ('salience', 0.006924660876393318)\n",
      "('name', 'quality assurance') ('type', 'OTHER') ('metadata', {}) ('salience', 0.0068872785195708275)\n",
      "('name', 'call') ('type', 'OTHER') ('metadata', {}) ('salience', 0.0068872785195708275)\n",
      "('name', 'value') ('type', 'OTHER') ('metadata', {}) ('salience', 0.006853038445115089)\n",
      "('name', 'insurance product') ('type', 'CONSUMER_GOOD') ('metadata', {}) ('salience', 0.006334118545055389)\n",
      "('name', 'sum') ('type', 'OTHER') ('metadata', {}) ('salience', 0.006334118545055389)\n",
      "('name', 'Secure Path Accident') ('type', 'EVENT') ('metadata', {}) ('salience', 0.005484408233314753)\n",
      "('name', 'examination') ('type', 'EVENT') ('metadata', {}) ('salience', 0.005427494645118713)\n",
      "('name', 'premiere') ('type', 'EVENT') ('metadata', {}) ('salience', 0.005427494645118713)\n",
      "('name', 'premium') ('type', 'OTHER') ('metadata', {}) ('salience', 0.004853109363466501)\n",
      "('name', 'news') ('type', 'OTHER') ('metadata', {}) ('salience', 0.004767512436956167)\n",
      "('name', 'way') ('type', 'OTHER') ('metadata', {}) ('salience', 0.004767512436956167)\n",
      "('name', 'problem situation') ('type', 'OTHER') ('metadata', {}) ('salience', 0.004761926829814911)\n",
      "('name', 'need') ('type', 'OTHER') ('metadata', {}) ('salience', 0.004558752290904522)\n",
      "('name', 'proposal') ('type', 'WORK_OF_ART') ('metadata', {}) ('salience', 0.00433987146243453)\n",
      "('name', 'Accidental Death Cover') ('type', 'OTHER') ('metadata', {}) ('salience', 0.004263192415237427)\n",
      "('name', 'examination') ('type', 'EVENT') ('metadata', {}) ('salience', 0.003790571354329586)\n",
      "('name', 'acceptance') ('type', 'OTHER') ('metadata', {}) ('salience', 0.0033329990692436695)\n",
      "('name', 'grave') ('type', 'OTHER') ('metadata', {}) ('salience', 0.003329432336613536)\n",
      "('name', 'aviation') ('type', 'OTHER') ('metadata', {}) ('salience', 0.003329432336613536)\n",
      "('name', 'benefit') ('type', 'OTHER') ('metadata', {}) ('salience', 0.003044294659048319)\n",
      "('name', 'amount') ('type', 'OTHER') ('metadata', {}) ('salience', 0.002609552349895239)\n",
      "('name', 'accident') ('type', 'EVENT') ('metadata', {}) ('salience', 0.002609552349895239)\n",
      "('name', 'benefit') ('type', 'OTHER') ('metadata', {}) ('salience', 0.0023800323251634836)\n",
      "('name', 'bus') ('type', 'OTHER') ('metadata', {}) ('salience', 0.0020903798285871744)\n",
      "('name', 'train flight') ('type', 'OTHER') ('metadata', {}) ('salience', 0.0020903798285871744)\n",
      "('name', 'recruitment') ('type', 'OTHER') ('metadata', {}) ('salience', 0.0020903798285871744)\n",
      "('name', 'hospital') ('type', 'LOCATION') ('metadata', {}) ('salience', 0.0020903798285871744)\n"
     ]
    },
    {
     "ename": "IndexError",
     "evalue": "tuple index out of range",
     "output_type": "error",
     "traceback": [
      "\u001b[0;31m---------------------------------------------------------------------------\u001b[0m",
      "\u001b[0;31mIndexError\u001b[0m                                Traceback (most recent call last)",
      "\u001b[0;32m<ipython-input-28-f81b2861008f>\u001b[0m in \u001b[0;36m<module>\u001b[0;34m\u001b[0m\n\u001b[1;32m     16\u001b[0m \u001b[0;34m\u001b[0m\u001b[0m\n\u001b[1;32m     17\u001b[0m \u001b[0;32mfor\u001b[0m \u001b[0me\u001b[0m \u001b[0;32min\u001b[0m \u001b[0mentities\u001b[0m\u001b[0;34m:\u001b[0m\u001b[0;34m\u001b[0m\u001b[0;34m\u001b[0m\u001b[0m\n\u001b[0;32m---> 18\u001b[0;31m         \u001b[0mprint\u001b[0m\u001b[0;34m(\u001b[0m\u001b[0;34m(\u001b[0m\u001b[0;34m'name'\u001b[0m\u001b[0;34m,\u001b[0m \u001b[0me\u001b[0m\u001b[0;34m.\u001b[0m\u001b[0mname\u001b[0m\u001b[0;34m)\u001b[0m\u001b[0;34m,\u001b[0m \u001b[0;34m(\u001b[0m\u001b[0;34m'type'\u001b[0m\u001b[0;34m,\u001b[0m \u001b[0mentity_type\u001b[0m\u001b[0;34m[\u001b[0m\u001b[0me\u001b[0m\u001b[0;34m.\u001b[0m\u001b[0mtype\u001b[0m\u001b[0;34m]\u001b[0m\u001b[0;34m)\u001b[0m\u001b[0;34m,\u001b[0m \u001b[0;34m(\u001b[0m\u001b[0;34m'metadata'\u001b[0m\u001b[0;34m,\u001b[0m \u001b[0me\u001b[0m\u001b[0;34m.\u001b[0m\u001b[0mmetadata\u001b[0m\u001b[0;34m)\u001b[0m\u001b[0;34m,\u001b[0m \u001b[0;34m(\u001b[0m\u001b[0;34m'salience'\u001b[0m\u001b[0;34m,\u001b[0m \u001b[0me\u001b[0m\u001b[0;34m.\u001b[0m\u001b[0msalience\u001b[0m\u001b[0;34m)\u001b[0m\u001b[0;34m)\u001b[0m\u001b[0;34m\u001b[0m\u001b[0;34m\u001b[0m\u001b[0m\n\u001b[0m",
      "\u001b[0;31mIndexError\u001b[0m: tuple index out of range"
     ]
    }
   ],
   "source": [
    "def language_analysis(text):\n",
    "    client = language.LanguageServiceClient() \n",
    "    document = language.types.Document(content=text, type='PLAIN_TEXT')\n",
    "    sent_analysis = client.analyze_sentiment(document=document).document_sentiment\n",
    "    print(dir(sent_analysis)) \n",
    "    entities = client.analyze_entities(document).entities\n",
    "    return sent_analysis, entities\n",
    "\n",
    "\n",
    "sentiment, entities = language_analysis(translated.text)\n",
    "print('Text: {}'.format(translated.text))\n",
    "print('Sentiment: {}, {}'.format(sentiment.score, sentiment.magnitude))\n",
    "#print(sentiment.score, sentiment.magnit)\n",
    "\n",
    "entity_type = ('UNKNOWN', 'PERSON', 'LOCATION', 'ORGANIZATION', 'EVENT', 'WORK_OF_ART', 'CONSUMER_GOOD', 'OTHER')\n",
    "\n",
    "for e in entities:\n",
    "        print(('name', e.name), ('type', entity_type[e.type]), ('metadata', e.metadata), ('salience', e.salience))"
   ]
  },
  {
   "cell_type": "code",
   "execution_count": 22,
   "metadata": {},
   "outputs": [],
   "source": [
    "def google_transcribe_dir(audio_file_name):\n",
    "    \n",
    "    file_name = filepath + audio_file_name\n",
    "    mp3_to_wav(file_name)\n",
    "\n",
    "    # The name of the audio file to transcribe\n",
    "    \n",
    "    frame_rate, channels = frame_rate_channel(file_name)\n",
    "    \n",
    "    if channels > 1:\n",
    "        stereo_to_mono(file_name)\n",
    "    \n",
    "    bucket_name = bucketname\n",
    "    source_file_name = filepath + audio_file_name\n",
    "    destination_blob_name = audio_file_name\n",
    "    \n",
    "    upload_blob(bucket_name, source_file_name, destination_blob_name)\n",
    "    \n",
    "    gcs_uri = 'gs://' + bucketname + '/' + audio_file_name\n",
    "    transcript = ''\n",
    "    \n",
    "    client = speech.SpeechClient()\n",
    "    audio = types.RecognitionAudio(uri=gcs_uri)\n",
    "\n",
    "    config = types.RecognitionConfig(\n",
    "    encoding=enums.RecognitionConfig.AudioEncoding.LINEAR16,\n",
    "    sample_rate_hertz=frame_rate,\n",
    "    language_code='hi-IN',\n",
    "    enable_speaker_diarization=True,\n",
    "    diarization_speaker_count=2)\n",
    "    operation = client.long_running_recognize(config, audio)\n",
    "    response = operation.result(timeout=10000)\n",
    "    result = response.results[-1]\n",
    "    words_info = result.alternatives[0].words\n",
    "    \n",
    "    tag=1\n",
    "    speaker=\"\"\n",
    "\n",
    "    for word_info in words_info:\n",
    "        if word_info.speaker_tag==tag:\n",
    "            speaker=speaker+\" \"+word_info.word\n",
    "        else:\n",
    "            transcript += \"speaker {}: {}\".format(tag,speaker) + '\\n'\n",
    "            tag=word_info.speaker_tag\n",
    "            speaker=\"\"+word_info.word\n",
    "\n",
    "    transcript += \"speaker {}: {}\".format(tag,speaker)\n",
    "    \n",
    "    delete_blob(bucket_name, destination_blob_name)\n",
    "    return transcript\n"
   ]
  },
  {
   "cell_type": "code",
   "execution_count": 21,
   "metadata": {},
   "outputs": [],
   "source": [
    "from google.cloud import speech_v1p1beta1 as speech\n",
    "from google.cloud.speech_v1p1beta1 import enums\n",
    "from google.cloud.speech_v1p1beta1 import types"
   ]
  },
  {
   "cell_type": "code",
   "execution_count": 23,
   "metadata": {},
   "outputs": [],
   "source": [
    "if __name__ == \"__main__\":\n",
    "    for audio_file_name in os.listdir(filepath):\n",
    "        \n",
    "        \n",
    "        transcript1 = google_transcribe_dir(audio_file_name)\n",
    "        transcript_filename = audio_file_name.split('.')[0] + '_di.txt'\n",
    "        write_transcripts(transcript_filename,transcript1)"
   ]
  },
  {
   "cell_type": "code",
   "execution_count": 24,
   "metadata": {},
   "outputs": [
    {
     "name": "stdout",
     "output_type": "stream",
     "text": [
      "speaker 1: \n",
      "speaker 2: I think we got disconnected this is re calling you back from satellites. I just kind of hurts like going to silent so I don't know what you're not you might have switched over to another line or if maybe you could hear me I was talking and I couldn't hear you so I was just calling back just to make sure that you know we didn't get disconnected by\n",
      "speaker 1: accident sir yeah we did okay well I mean you do\n",
      "speaker 2: qualify for the some great promotion for you looking to get service set up sooner rather\n",
      "speaker 1: than later no I'm watching surprised I'm checking prices I'm going to see call some other places and see what the other prices I can get\n",
      "speaker 2: that's fine but we are located pretty much out there so we can actually if you are going to shop around you welcome to do that but if you reserve the prices weather today Ryan that would actually allow me to guarantee the prices for 30 days so when you found out that there's not going to be really any other provider job here must let me get you the prices this low this will ensure that pulling up.\n",
      "speaker 1: All I wanted was a fucking bright I don't want to be you want to lose it\n",
      "speaker 2: how about that\n",
      "speaker 1: let me talk to your\n",
      "speaker 2: boss yeah I said it\n",
      "speaker 1: yeah let me talk to your boss\n",
      "speaker 2: jackass I wish you were here\n",
      "speaker 1: where you at\n",
      "speaker 2: listen to my\n",
      "speaker 1: voice your freak what you bought on the phone\n",
      "speaker 2: after speaking song what can I help you with smart guy\n",
      "speaker 1: if you want to be rude to you how about that I\n",
      "speaker 2: want to be rude that you learn some respect you piece of crap don't some respect I tried to help you and then you will definitely up yours up yours buddy\n"
     ]
    }
   ],
   "source": [
    "print(transcript1)"
   ]
  },
  {
   "cell_type": "code",
   "execution_count": null,
   "metadata": {},
   "outputs": [],
   "source": []
  }
 ],
 "metadata": {
  "kernelspec": {
   "display_name": "Python 3",
   "language": "python",
   "name": "python3"
  },
  "language_info": {
   "codemirror_mode": {
    "name": "ipython",
    "version": 3
   },
   "file_extension": ".py",
   "mimetype": "text/x-python",
   "name": "python",
   "nbconvert_exporter": "python",
   "pygments_lexer": "ipython3",
   "version": "3.7.3"
  }
 },
 "nbformat": 4,
 "nbformat_minor": 2
}
